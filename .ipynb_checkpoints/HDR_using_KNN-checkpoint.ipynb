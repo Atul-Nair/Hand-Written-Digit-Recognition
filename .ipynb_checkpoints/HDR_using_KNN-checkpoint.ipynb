{
 "cells": [
  {
   "cell_type": "code",
   "execution_count": 7,
   "id": "b67fbeec",
   "metadata": {},
   "outputs": [],
   "source": [
    "from sklearn.datasets import fetch_openml, load_digits\n",
    "import numpy as np\n",
    "import pandas as pd \n",
    "import matplotlib.pyplot as plt\n",
    "import matplotlib"
   ]
  },
  {
   "cell_type": "code",
   "execution_count": null,
   "id": "b1de8559",
   "metadata": {},
   "outputs": [],
   "source": [
    "mnist = fetch_openml(\"mnist_784\") #load_digits()"
   ]
  },
  {
   "cell_type": "code",
   "execution_count": null,
   "id": "1d4873c8",
   "metadata": {},
   "outputs": [],
   "source": [
    "#Preprocessing of the data\n",
    "\n",
    "# checking the column names and preprocessing target values in standard format\n",
    "mnist.keys()\n",
    "mnist.target = mnist.target.astype(np.int8)\n",
    "#Determining independent and dependent variable and finding the shape\n",
    "x = np.array(mnist.data)\n",
    "y = np.array(mnist.target)\n",
    "x.shape, y.shape\n",
    "#output ((70000, 784), (70000,))\n",
    "# shuffling the values of x and y\n",
    "si = np.random.permutation(x.shape[0])\n",
    "x = x[si]\n",
    "y = y[si]"
   ]
  },
  {
   "cell_type": "code",
   "execution_count": null,
   "id": "1f21e424",
   "metadata": {},
   "outputs": [],
   "source": [
    "#Visualization of data\n",
    "\n",
    "some_digit = x[12]\n",
    "some_digit_image = some_digit.reshape(28, 28)\n",
    "plt.imshow(some_digit_image, cmap=matplotlib.cm.binary)\n",
    "plt.axis(“off”)\n",
    "plt.show()"
   ]
  },
  {
   "cell_type": "code",
   "execution_count": null,
   "id": "0ffc720a",
   "metadata": {},
   "outputs": [],
   "source": [
    "some_digit = x[12]\n",
    "some_digit_image = some_digit.reshape(28, 28)\n",
    "plt.imshow(some_digit_image, cmap=matplotlib.cm.binary)\n",
    "plt.axis(\"off\")\n",
    "plt.show()"
   ]
  }
 ],
 "metadata": {
  "kernelspec": {
   "display_name": "Python 3 (ipykernel)",
   "language": "python",
   "name": "python3"
  },
  "language_info": {
   "codemirror_mode": {
    "name": "ipython",
    "version": 3
   },
   "file_extension": ".py",
   "mimetype": "text/x-python",
   "name": "python",
   "nbconvert_exporter": "python",
   "pygments_lexer": "ipython3",
   "version": "3.10.1"
  }
 },
 "nbformat": 4,
 "nbformat_minor": 5
}
