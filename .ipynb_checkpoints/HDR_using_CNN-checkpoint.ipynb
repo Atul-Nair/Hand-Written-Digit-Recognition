{
 "cells": [
  {
   "cell_type": "code",
   "execution_count": 1,
   "metadata": {},
   "outputs": [],
   "source": [
    "import tensorflow as tf\n",
    "import tensorflowjs as tfjs\n",
    "from tensorflow import keras"
   ]
  },
  {
   "cell_type": "code",
   "execution_count": 2,
   "metadata": {},
   "outputs": [],
   "source": [
    "# load the data\n",
    "(train_img,train_label),(test_img,test_label) = keras.datasets.mnist.load_data()\n",
    "train_img = train_img.reshape([-1, 28, 28, 1])\n",
    "test_img = test_img.reshape([-1, 28, 28, 1])\n",
    "train_img = train_img/255.0\n",
    "test_img = test_img/255.0\n",
    "train_label = keras.utils.to_categorical(train_label)\n",
    "test_label = keras.utils.to_categorical(test_label)"
   ]
  },
  {
   "cell_type": "code",
   "execution_count": 3,
   "metadata": {},
   "outputs": [],
   "source": [
    "# define the model architecture\n",
    "model = keras.Sequential([\n",
    "    keras.layers.Conv2D(32, (5, 5), padding=\"same\", input_shape=[28, 28, 1]),\n",
    "    keras.layers.MaxPool2D((2,2)),\n",
    "    keras.layers.Conv2D(64, (5, 5), padding=\"same\"),\n",
    "    keras.layers.MaxPool2D((2,2)),\n",
    "    keras.layers.Flatten(),\n",
    "    keras.layers.Dense(1024, activation='relu'),\n",
    "    keras.layers.Dropout(0.2),\n",
    "    keras.layers.Dense(10, activation='softmax')\n",
    "])\n",
    "model.compile(optimizer='adam', loss='categorical_crossentropy', metrics=['accuracy'])"
   ]
  },
  {
   "cell_type": "code",
   "execution_count": 4,
   "metadata": {},
   "outputs": [
    {
     "name": "stdout",
     "output_type": "stream",
     "text": [
      "Epoch 1/10\n",
      "1875/1875 [==============================] - 158s 83ms/step - loss: 0.1149 - accuracy: 0.9652 - val_loss: 0.0424 - val_accuracy: 0.9865\n",
      "Epoch 2/10\n",
      "1875/1875 [==============================] - 162s 86ms/step - loss: 0.0552 - accuracy: 0.9836 - val_loss: 0.0619 - val_accuracy: 0.9820\n",
      "Epoch 3/10\n",
      "1875/1875 [==============================] - 163s 87ms/step - loss: 0.0451 - accuracy: 0.9869 - val_loss: 0.0519 - val_accuracy: 0.9875\n",
      "Epoch 4/10\n",
      "1875/1875 [==============================] - 159s 85ms/step - loss: 0.0372 - accuracy: 0.9897 - val_loss: 0.0798 - val_accuracy: 0.9832\n",
      "Epoch 5/10\n",
      "1875/1875 [==============================] - 163s 87ms/step - loss: 0.0357 - accuracy: 0.9908 - val_loss: 0.0518 - val_accuracy: 0.9887\n",
      "Epoch 6/10\n",
      "1875/1875 [==============================] - 141s 75ms/step - loss: 0.0364 - accuracy: 0.9907 - val_loss: 0.1146 - val_accuracy: 0.9808\n",
      "Epoch 7/10\n",
      "1875/1875 [==============================] - 120s 64ms/step - loss: 0.0333 - accuracy: 0.9924 - val_loss: 0.0805 - val_accuracy: 0.9874\n",
      "Epoch 8/10\n",
      "1875/1875 [==============================] - 114s 61ms/step - loss: 0.0387 - accuracy: 0.9922 - val_loss: 0.0708 - val_accuracy: 0.9892\n",
      "Epoch 9/10\n",
      "1875/1875 [==============================] - 116s 62ms/step - loss: 0.0329 - accuracy: 0.9933 - val_loss: 0.0654 - val_accuracy: 0.9912\n",
      "Epoch 10/10\n",
      "1875/1875 [==============================] - 115s 62ms/step - loss: 0.0314 - accuracy: 0.9941 - val_loss: 0.1049 - val_accuracy: 0.9869\n",
      "313/313 [==============================] - 5s 15ms/step - loss: 0.1049 - accuracy: 0.9869\n",
      "Test accuracy: 0.9868999719619751\n"
     ]
    }
   ],
   "source": [
    "# train the model\n",
    "model.fit(train_img,train_label, validation_data=(test_img,test_label), epochs=10)\n",
    "test_loss,test_acc = model.evaluate(test_img, test_label)\n",
    "print('Test accuracy:', test_acc)"
   ]
  },
  {
   "cell_type": "code",
   "execution_count": 5,
   "metadata": {},
   "outputs": [],
   "source": [
    "# save model as tfjs format\n",
    "tfjs.converters.save_keras_model(model, 'CNN_models')"
   ]
  },
  {
   "cell_type": "code",
   "execution_count": null,
   "metadata": {},
   "outputs": [],
   "source": []
  }
 ],
 "metadata": {
  "kernelspec": {
   "display_name": "Python 3 (ipykernel)",
   "language": "python",
   "name": "python3"
  },
  "language_info": {
   "codemirror_mode": {
    "name": "ipython",
    "version": 3
   },
   "file_extension": ".py",
   "mimetype": "text/x-python",
   "name": "python",
   "nbconvert_exporter": "python",
   "pygments_lexer": "ipython3",
   "version": "3.10.1"
  }
 },
 "nbformat": 4,
 "nbformat_minor": 2
}
